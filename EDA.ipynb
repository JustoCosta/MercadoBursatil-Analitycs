{
 "cells": [
  {
   "attachments": {},
   "cell_type": "markdown",
   "metadata": {},
   "source": [
    "Importación de Librerías "
   ]
  },
  {
   "cell_type": "code",
   "execution_count": 62,
   "metadata": {},
   "outputs": [],
   "source": [
    "import yfinance as yf\n",
    "import pandas as pd\n",
    "import datetime\n",
    "import matplotlib.pyplot as plt"
   ]
  },
  {
   "attachments": {},
   "cell_type": "markdown",
   "metadata": {},
   "source": [
    "Definición de la fecha de inicio y de cierre"
   ]
  },
  {
   "cell_type": "code",
   "execution_count": 74,
   "metadata": {},
   "outputs": [],
   "source": [
    "start_date = '2000-01-01'\n",
    "end_date = datetime.datetime.now()\n",
    "int = '5d'"
   ]
  },
  {
   "attachments": {},
   "cell_type": "markdown",
   "metadata": {},
   "source": [
    "Instancia de un ticker para obtener un dataframe con los datos históricos"
   ]
  },
  {
   "cell_type": "code",
   "execution_count": 75,
   "metadata": {},
   "outputs": [
    {
     "data": {
      "text/html": [
       "<div>\n",
       "<style scoped>\n",
       "    .dataframe tbody tr th:only-of-type {\n",
       "        vertical-align: middle;\n",
       "    }\n",
       "\n",
       "    .dataframe tbody tr th {\n",
       "        vertical-align: top;\n",
       "    }\n",
       "\n",
       "    .dataframe thead th {\n",
       "        text-align: right;\n",
       "    }\n",
       "</style>\n",
       "<table border=\"1\" class=\"dataframe\">\n",
       "  <thead>\n",
       "    <tr style=\"text-align: right;\">\n",
       "      <th></th>\n",
       "      <th>Open</th>\n",
       "      <th>High</th>\n",
       "      <th>Low</th>\n",
       "      <th>Close</th>\n",
       "      <th>Volume</th>\n",
       "      <th>Dividends</th>\n",
       "      <th>Stock Splits</th>\n",
       "    </tr>\n",
       "    <tr>\n",
       "      <th>Date</th>\n",
       "      <th></th>\n",
       "      <th></th>\n",
       "      <th></th>\n",
       "      <th></th>\n",
       "      <th></th>\n",
       "      <th></th>\n",
       "      <th></th>\n",
       "    </tr>\n",
       "  </thead>\n",
       "  <tbody>\n",
       "    <tr>\n",
       "      <th>2000-01-06 00:00:00-05:00</th>\n",
       "      <td>1402.109985</td>\n",
       "      <td>1411.900024</td>\n",
       "      <td>1392.099976</td>\n",
       "      <td>1403.449951</td>\n",
       "      <td>1092300000</td>\n",
       "      <td>0.0</td>\n",
       "      <td>0.0</td>\n",
       "    </tr>\n",
       "    <tr>\n",
       "      <th>2000-01-11 00:00:00-05:00</th>\n",
       "      <td>1457.599976</td>\n",
       "      <td>1458.660034</td>\n",
       "      <td>1434.420044</td>\n",
       "      <td>1438.560059</td>\n",
       "      <td>1014000000</td>\n",
       "      <td>0.0</td>\n",
       "      <td>0.0</td>\n",
       "    </tr>\n",
       "    <tr>\n",
       "      <th>2000-01-21 00:00:00-05:00</th>\n",
       "      <td>1445.569946</td>\n",
       "      <td>1453.180054</td>\n",
       "      <td>1439.599976</td>\n",
       "      <td>1441.359985</td>\n",
       "      <td>1209800000</td>\n",
       "      <td>0.0</td>\n",
       "      <td>0.0</td>\n",
       "    </tr>\n",
       "    <tr>\n",
       "      <th>2000-01-26 00:00:00-05:00</th>\n",
       "      <td>1410.030029</td>\n",
       "      <td>1412.729980</td>\n",
       "      <td>1400.160034</td>\n",
       "      <td>1404.089966</td>\n",
       "      <td>1117300000</td>\n",
       "      <td>0.0</td>\n",
       "      <td>0.0</td>\n",
       "    </tr>\n",
       "    <tr>\n",
       "      <th>2000-01-31 00:00:00-05:00</th>\n",
       "      <td>1360.160034</td>\n",
       "      <td>1394.479980</td>\n",
       "      <td>1350.140015</td>\n",
       "      <td>1394.459961</td>\n",
       "      <td>993800000</td>\n",
       "      <td>0.0</td>\n",
       "      <td>0.0</td>\n",
       "    </tr>\n",
       "    <tr>\n",
       "      <th>...</th>\n",
       "      <td>...</td>\n",
       "      <td>...</td>\n",
       "      <td>...</td>\n",
       "      <td>...</td>\n",
       "      <td>...</td>\n",
       "      <td>...</td>\n",
       "      <td>...</td>\n",
       "    </tr>\n",
       "    <tr>\n",
       "      <th>2023-01-25 00:00:00-05:00</th>\n",
       "      <td>3982.709961</td>\n",
       "      <td>4019.550049</td>\n",
       "      <td>3949.060059</td>\n",
       "      <td>4016.219971</td>\n",
       "      <td>3724020000</td>\n",
       "      <td>0.0</td>\n",
       "      <td>0.0</td>\n",
       "    </tr>\n",
       "    <tr>\n",
       "      <th>2023-01-30 00:00:00-05:00</th>\n",
       "      <td>4049.270020</td>\n",
       "      <td>4063.850098</td>\n",
       "      <td>4015.550049</td>\n",
       "      <td>4017.770020</td>\n",
       "      <td>3802000000</td>\n",
       "      <td>0.0</td>\n",
       "      <td>0.0</td>\n",
       "    </tr>\n",
       "    <tr>\n",
       "      <th>2023-02-09 00:00:00-05:00</th>\n",
       "      <td>4144.250000</td>\n",
       "      <td>4156.229980</td>\n",
       "      <td>4069.669922</td>\n",
       "      <td>4081.500000</td>\n",
       "      <td>4270200000</td>\n",
       "      <td>0.0</td>\n",
       "      <td>0.0</td>\n",
       "    </tr>\n",
       "    <tr>\n",
       "      <th>2023-02-14 00:00:00-05:00</th>\n",
       "      <td>4126.700195</td>\n",
       "      <td>4159.770020</td>\n",
       "      <td>4095.010010</td>\n",
       "      <td>4136.129883</td>\n",
       "      <td>3929200000</td>\n",
       "      <td>0.0</td>\n",
       "      <td>0.0</td>\n",
       "    </tr>\n",
       "    <tr>\n",
       "      <th>2023-02-24 00:00:00-05:00</th>\n",
       "      <td>3973.239990</td>\n",
       "      <td>3997.500000</td>\n",
       "      <td>3943.080078</td>\n",
       "      <td>3972.949951</td>\n",
       "      <td>5432765000</td>\n",
       "      <td>0.0</td>\n",
       "      <td>0.0</td>\n",
       "    </tr>\n",
       "  </tbody>\n",
       "</table>\n",
       "<p>1166 rows × 7 columns</p>\n",
       "</div>"
      ],
      "text/plain": [
       "                                  Open         High          Low        Close  \\\n",
       "Date                                                                            \n",
       "2000-01-06 00:00:00-05:00  1402.109985  1411.900024  1392.099976  1403.449951   \n",
       "2000-01-11 00:00:00-05:00  1457.599976  1458.660034  1434.420044  1438.560059   \n",
       "2000-01-21 00:00:00-05:00  1445.569946  1453.180054  1439.599976  1441.359985   \n",
       "2000-01-26 00:00:00-05:00  1410.030029  1412.729980  1400.160034  1404.089966   \n",
       "2000-01-31 00:00:00-05:00  1360.160034  1394.479980  1350.140015  1394.459961   \n",
       "...                                ...          ...          ...          ...   \n",
       "2023-01-25 00:00:00-05:00  3982.709961  4019.550049  3949.060059  4016.219971   \n",
       "2023-01-30 00:00:00-05:00  4049.270020  4063.850098  4015.550049  4017.770020   \n",
       "2023-02-09 00:00:00-05:00  4144.250000  4156.229980  4069.669922  4081.500000   \n",
       "2023-02-14 00:00:00-05:00  4126.700195  4159.770020  4095.010010  4136.129883   \n",
       "2023-02-24 00:00:00-05:00  3973.239990  3997.500000  3943.080078  3972.949951   \n",
       "\n",
       "                               Volume  Dividends  Stock Splits  \n",
       "Date                                                            \n",
       "2000-01-06 00:00:00-05:00  1092300000        0.0           0.0  \n",
       "2000-01-11 00:00:00-05:00  1014000000        0.0           0.0  \n",
       "2000-01-21 00:00:00-05:00  1209800000        0.0           0.0  \n",
       "2000-01-26 00:00:00-05:00  1117300000        0.0           0.0  \n",
       "2000-01-31 00:00:00-05:00   993800000        0.0           0.0  \n",
       "...                               ...        ...           ...  \n",
       "2023-01-25 00:00:00-05:00  3724020000        0.0           0.0  \n",
       "2023-01-30 00:00:00-05:00  3802000000        0.0           0.0  \n",
       "2023-02-09 00:00:00-05:00  4270200000        0.0           0.0  \n",
       "2023-02-14 00:00:00-05:00  3929200000        0.0           0.0  \n",
       "2023-02-24 00:00:00-05:00  5432765000        0.0           0.0  \n",
       "\n",
       "[1166 rows x 7 columns]"
      ]
     },
     "execution_count": 75,
     "metadata": {},
     "output_type": "execute_result"
    }
   ],
   "source": [
    "sp500_ticker = yf.Ticker(\"^GSPC\")\n",
    "historical_prices = sp500_ticker.history(start = start_date , end = end_date, interval = int)\n",
    "historical_prices"
   ]
  },
  {
   "attachments": {},
   "cell_type": "markdown",
   "metadata": {},
   "source": [
    "Resetear Índice y la columna 'Date' pasa a ser columna lista para usar"
   ]
  },
  {
   "cell_type": "code",
   "execution_count": 70,
   "metadata": {},
   "outputs": [],
   "source": [
    "historical_prices = historical_prices.reset_index()\n"
   ]
  },
  {
   "attachments": {},
   "cell_type": "markdown",
   "metadata": {},
   "source": [
    "Cambiar la columna 'Date' a formato datetime solo fecha"
   ]
  },
  {
   "cell_type": "code",
   "execution_count": 34,
   "metadata": {},
   "outputs": [],
   "source": [
    "historical_prices['Date'] = historical_prices['Date'].dt.date"
   ]
  },
  {
   "attachments": {},
   "cell_type": "markdown",
   "metadata": {},
   "source": [
    "Las columnas con valor numerico flotante solo dejaremos dos decimales"
   ]
  },
  {
   "cell_type": "code",
   "execution_count": 38,
   "metadata": {},
   "outputs": [],
   "source": [
    "historical_prices[['Open','High','Low','Close']] = historical_prices[['Open','High','Low','Close']].round(2)"
   ]
  },
  {
   "attachments": {},
   "cell_type": "markdown",
   "metadata": {},
   "source": [
    "Visualización tabla modificada"
   ]
  },
  {
   "cell_type": "code",
   "execution_count": 39,
   "metadata": {},
   "outputs": [
    {
     "data": {
      "text/html": [
       "<div>\n",
       "<style scoped>\n",
       "    .dataframe tbody tr th:only-of-type {\n",
       "        vertical-align: middle;\n",
       "    }\n",
       "\n",
       "    .dataframe tbody tr th {\n",
       "        vertical-align: top;\n",
       "    }\n",
       "\n",
       "    .dataframe thead th {\n",
       "        text-align: right;\n",
       "    }\n",
       "</style>\n",
       "<table border=\"1\" class=\"dataframe\">\n",
       "  <thead>\n",
       "    <tr style=\"text-align: right;\">\n",
       "      <th></th>\n",
       "      <th>Date</th>\n",
       "      <th>Open</th>\n",
       "      <th>High</th>\n",
       "      <th>Low</th>\n",
       "      <th>Close</th>\n",
       "      <th>Volume</th>\n",
       "      <th>Dividends</th>\n",
       "      <th>Stock Splits</th>\n",
       "    </tr>\n",
       "  </thead>\n",
       "  <tbody>\n",
       "    <tr>\n",
       "      <th>0</th>\n",
       "      <td>2000-01-03</td>\n",
       "      <td>1469.25</td>\n",
       "      <td>1478.00</td>\n",
       "      <td>1438.36</td>\n",
       "      <td>1455.22</td>\n",
       "      <td>931800000</td>\n",
       "      <td>0.0</td>\n",
       "      <td>0.0</td>\n",
       "    </tr>\n",
       "    <tr>\n",
       "      <th>1</th>\n",
       "      <td>2000-01-04</td>\n",
       "      <td>1455.22</td>\n",
       "      <td>1455.22</td>\n",
       "      <td>1397.43</td>\n",
       "      <td>1399.42</td>\n",
       "      <td>1009000000</td>\n",
       "      <td>0.0</td>\n",
       "      <td>0.0</td>\n",
       "    </tr>\n",
       "    <tr>\n",
       "      <th>2</th>\n",
       "      <td>2000-01-05</td>\n",
       "      <td>1399.42</td>\n",
       "      <td>1413.27</td>\n",
       "      <td>1377.68</td>\n",
       "      <td>1402.11</td>\n",
       "      <td>1085500000</td>\n",
       "      <td>0.0</td>\n",
       "      <td>0.0</td>\n",
       "    </tr>\n",
       "    <tr>\n",
       "      <th>3</th>\n",
       "      <td>2000-01-06</td>\n",
       "      <td>1402.11</td>\n",
       "      <td>1411.90</td>\n",
       "      <td>1392.10</td>\n",
       "      <td>1403.45</td>\n",
       "      <td>1092300000</td>\n",
       "      <td>0.0</td>\n",
       "      <td>0.0</td>\n",
       "    </tr>\n",
       "    <tr>\n",
       "      <th>4</th>\n",
       "      <td>2000-01-07</td>\n",
       "      <td>1403.45</td>\n",
       "      <td>1441.47</td>\n",
       "      <td>1400.73</td>\n",
       "      <td>1441.47</td>\n",
       "      <td>1225200000</td>\n",
       "      <td>0.0</td>\n",
       "      <td>0.0</td>\n",
       "    </tr>\n",
       "    <tr>\n",
       "      <th>...</th>\n",
       "      <td>...</td>\n",
       "      <td>...</td>\n",
       "      <td>...</td>\n",
       "      <td>...</td>\n",
       "      <td>...</td>\n",
       "      <td>...</td>\n",
       "      <td>...</td>\n",
       "      <td>...</td>\n",
       "    </tr>\n",
       "    <tr>\n",
       "      <th>5820</th>\n",
       "      <td>2023-02-21</td>\n",
       "      <td>4052.35</td>\n",
       "      <td>4052.35</td>\n",
       "      <td>3995.19</td>\n",
       "      <td>3997.34</td>\n",
       "      <td>4121590000</td>\n",
       "      <td>0.0</td>\n",
       "      <td>0.0</td>\n",
       "    </tr>\n",
       "    <tr>\n",
       "      <th>5821</th>\n",
       "      <td>2023-02-22</td>\n",
       "      <td>4001.83</td>\n",
       "      <td>4017.37</td>\n",
       "      <td>3976.90</td>\n",
       "      <td>3991.05</td>\n",
       "      <td>4079320000</td>\n",
       "      <td>0.0</td>\n",
       "      <td>0.0</td>\n",
       "    </tr>\n",
       "    <tr>\n",
       "      <th>5822</th>\n",
       "      <td>2023-02-23</td>\n",
       "      <td>4018.60</td>\n",
       "      <td>4028.30</td>\n",
       "      <td>3969.19</td>\n",
       "      <td>4012.32</td>\n",
       "      <td>3952940000</td>\n",
       "      <td>0.0</td>\n",
       "      <td>0.0</td>\n",
       "    </tr>\n",
       "    <tr>\n",
       "      <th>5823</th>\n",
       "      <td>2023-02-24</td>\n",
       "      <td>3973.24</td>\n",
       "      <td>3978.25</td>\n",
       "      <td>3943.08</td>\n",
       "      <td>3970.04</td>\n",
       "      <td>3877700000</td>\n",
       "      <td>0.0</td>\n",
       "      <td>0.0</td>\n",
       "    </tr>\n",
       "    <tr>\n",
       "      <th>5824</th>\n",
       "      <td>2023-02-27</td>\n",
       "      <td>3992.36</td>\n",
       "      <td>4018.05</td>\n",
       "      <td>3973.55</td>\n",
       "      <td>3982.24</td>\n",
       "      <td>3836950000</td>\n",
       "      <td>0.0</td>\n",
       "      <td>0.0</td>\n",
       "    </tr>\n",
       "  </tbody>\n",
       "</table>\n",
       "<p>5825 rows × 8 columns</p>\n",
       "</div>"
      ],
      "text/plain": [
       "            Date     Open     High      Low    Close      Volume  Dividends  \\\n",
       "0     2000-01-03  1469.25  1478.00  1438.36  1455.22   931800000        0.0   \n",
       "1     2000-01-04  1455.22  1455.22  1397.43  1399.42  1009000000        0.0   \n",
       "2     2000-01-05  1399.42  1413.27  1377.68  1402.11  1085500000        0.0   \n",
       "3     2000-01-06  1402.11  1411.90  1392.10  1403.45  1092300000        0.0   \n",
       "4     2000-01-07  1403.45  1441.47  1400.73  1441.47  1225200000        0.0   \n",
       "...          ...      ...      ...      ...      ...         ...        ...   \n",
       "5820  2023-02-21  4052.35  4052.35  3995.19  3997.34  4121590000        0.0   \n",
       "5821  2023-02-22  4001.83  4017.37  3976.90  3991.05  4079320000        0.0   \n",
       "5822  2023-02-23  4018.60  4028.30  3969.19  4012.32  3952940000        0.0   \n",
       "5823  2023-02-24  3973.24  3978.25  3943.08  3970.04  3877700000        0.0   \n",
       "5824  2023-02-27  3992.36  4018.05  3973.55  3982.24  3836950000        0.0   \n",
       "\n",
       "      Stock Splits  \n",
       "0              0.0  \n",
       "1              0.0  \n",
       "2              0.0  \n",
       "3              0.0  \n",
       "4              0.0  \n",
       "...            ...  \n",
       "5820           0.0  \n",
       "5821           0.0  \n",
       "5822           0.0  \n",
       "5823           0.0  \n",
       "5824           0.0  \n",
       "\n",
       "[5825 rows x 8 columns]"
      ]
     },
     "execution_count": 39,
     "metadata": {},
     "output_type": "execute_result"
    }
   ],
   "source": [
    "historical_prices"
   ]
  },
  {
   "attachments": {},
   "cell_type": "markdown",
   "metadata": {},
   "source": [
    "Gráfico rápido para la visualización a grandes rasgos, se nota tendencia alcista"
   ]
  },
  {
   "cell_type": "code",
   "execution_count": 41,
   "metadata": {},
   "outputs": [
    {
     "name": "stderr",
     "output_type": "stream",
     "text": [
      "/usr/lib/python3/dist-packages/matplotlib/cbook/__init__.py:1402: FutureWarning: Support for multi-dimensional indexing (e.g. `obj[:, None]`) is deprecated and will be removed in a future version.  Convert to a numpy array before indexing instead.\n",
      "  ndim = x[:, None].ndim\n",
      "/usr/lib/python3/dist-packages/matplotlib/axes/_base.py:276: FutureWarning: Support for multi-dimensional indexing (e.g. `obj[:, None]`) is deprecated and will be removed in a future version.  Convert to a numpy array before indexing instead.\n",
      "  x = x[:, np.newaxis]\n",
      "/usr/lib/python3/dist-packages/matplotlib/axes/_base.py:278: FutureWarning: Support for multi-dimensional indexing (e.g. `obj[:, None]`) is deprecated and will be removed in a future version.  Convert to a numpy array before indexing instead.\n",
      "  y = y[:, np.newaxis]\n"
     ]
    },
    {
     "data": {
      "image/png": "[encoded data removed]",
      "text/plain": [
       "<Figure size 432x288 with 1 Axes>"
      ]
     },
     "metadata": {
      "needs_background": "light"
     },
     "output_type": "display_data"
    }
   ],
   "source": [
    "x = historical_prices['Date']\n",
    "y = historical_prices['Close']\n",
    "\n",
    "\n",
    "plt.plot(x, y, color='red', linestyle='dashed')\n",
    "plt.title('Gráfico de Líneas')\n",
    "plt.xlabel('Eje X')\n",
    "plt.ylabel('Eje Y')\n",
    "plt.show()"
   ]
  },
  {
   "attachments": {},
   "cell_type": "markdown",
   "metadata": {},
   "source": [
    "Encontrar Valor del precio actual "
   ]
  },
  {
   "cell_type": "code",
   "execution_count": 43,
   "metadata": {},
   "outputs": [
    {
     "data": {
      "text/plain": [
       "3982.24"
      ]
     },
     "execution_count": 43,
     "metadata": {},
     "output_type": "execute_result"
    }
   ],
   "source": [
    "actual_price = historical_prices['Close'].iloc[-1]\n",
    "actual_price"
   ]
  },
  {
   "attachments": {},
   "cell_type": "markdown",
   "metadata": {},
   "source": [
    "Obtener máximo historico "
   ]
  },
  {
   "cell_type": "code",
   "execution_count": 47,
   "metadata": {},
   "outputs": [
    {
     "data": {
      "text/plain": [
       "4818.62"
      ]
     },
     "execution_count": 47,
     "metadata": {},
     "output_type": "execute_result"
    }
   ],
   "source": [
    "max_historical = historical_prices['High'].max()\n",
    "max_historical"
   ]
  },
  {
   "attachments": {},
   "cell_type": "markdown",
   "metadata": {},
   "source": [
    "Al leer la página de wikipedia nos sirve como referencia para saber que simbolo es cada empresa y obtener una lista"
   ]
  },
  {
   "cell_type": "code",
   "execution_count": 63,
   "metadata": {},
   "outputs": [],
   "source": [
    "tickers_sp500 = pd.read_html('https://en.wikipedia.org/wiki/List_of_S%26P_500_companies')[0]"
   ]
  },
  {
   "cell_type": "code",
   "execution_count": 65,
   "metadata": {},
   "outputs": [
    {
     "data": {
      "text/plain": [
       "0       MMM\n",
       "1       AOS\n",
       "2       ABT\n",
       "3      ABBV\n",
       "4       ACN\n",
       "       ... \n",
       "498     YUM\n",
       "499    ZBRA\n",
       "500     ZBH\n",
       "501    ZION\n",
       "502     ZTS\n",
       "Name: Symbol, Length: 503, dtype: object"
      ]
     },
     "execution_count": 65,
     "metadata": {},
     "output_type": "execute_result"
    }
   ],
   "source": [
    "tickers_sp500['Symbol']"
   ]
  },
  {
   "attachments": {},
   "cell_type": "markdown",
   "metadata": {},
   "source": [
    "Definimos la lista"
   ]
  },
  {
   "cell_type": "code",
   "execution_count": 78,
   "metadata": {},
   "outputs": [],
   "source": [
    "Empresas = tickers_sp500['Symbol'].to_list()\n"
   ]
  },
  {
   "attachments": {},
   "cell_type": "markdown",
   "metadata": {},
   "source": [
    "Rendimiento del fondo SP-500"
   ]
  },
  {
   "cell_type": "code",
   "execution_count": 88,
   "metadata": {},
   "outputs": [
    {
     "data": {
      "text/plain": [
       "0.0012154779418162"
      ]
     },
     "execution_count": 88,
     "metadata": {},
     "output_type": "execute_result"
    }
   ],
   "source": [
    "Rendimiento_sp500 = historical_prices['Close'].pct_change()\n",
    "Rendimiento_sp500.mean()"
   ]
  },
  {
   "attachments": {},
   "cell_type": "markdown",
   "metadata": {},
   "source": [
    "Volatilidad del fondo SP-500"
   ]
  },
  {
   "cell_type": "code",
   "execution_count": 89,
   "metadata": {},
   "outputs": [
    {
     "data": {
      "text/plain": [
       "0.025174067012600086"
      ]
     },
     "execution_count": 89,
     "metadata": {},
     "output_type": "execute_result"
    }
   ],
   "source": [
    "Volatilidad_sp500 = Rendimiento_sp500.std()\n",
    "Volatilidad_sp500"
   ]
  },
  {
   "attachments": {},
   "cell_type": "markdown",
   "metadata": {},
   "source": [
    "Sharpe Ratio del fondo SP-500"
   ]
  },
  {
   "cell_type": "code",
   "execution_count": 90,
   "metadata": {},
   "outputs": [
    {
     "data": {
      "text/plain": [
       "-0.7461854315705841"
      ]
     },
     "execution_count": 90,
     "metadata": {},
     "output_type": "execute_result"
    }
   ],
   "source": [
    "risk_free_rate = 0.02 #tasa libre de riesgo del 2%\n",
    "sharpe_ratio_sp500 = (Rendimiento_sp500.mean() - risk_free_rate) / Volatilidad_sp500\n",
    "sharpe_ratio_sp500"
   ]
  }
 ],
 "metadata": {
  "kernelspec": {
   "display_name": "Python 3",
   "language": "python",
   "name": "python3"
  },
  "language_info": {
   "codemirror_mode": {
    "name": "ipython",
    "version": 3
   },
   "file_extension": ".py",
   "mimetype": "text/x-python",
   "name": "python",
   "nbconvert_exporter": "python",
   "pygments_lexer": "ipython3",
   "version": "3.8.10"
  },
  "orig_nbformat": 4,
  "vscode": {
   "interpreter": {
    "hash": "916dbcbb3f70747c44a77c7bcd40155683ae19c65e1c03b4aa3499c5328201f1"
   }
  }
 },
 "nbformat": 4,
 "nbformat_minor": 2
}
